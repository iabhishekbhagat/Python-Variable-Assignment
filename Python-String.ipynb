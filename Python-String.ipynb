{
 "cells": [
  {
   "cell_type": "markdown",
   "id": "a81cf487-3340-4f2b-8075-e71ac1789327",
   "metadata": {},
   "source": [
    "Q1. How can we store a single quote (‘) as a string in a variable?"
   ]
  },
  {
   "cell_type": "markdown",
   "id": "a21c6990-f923-4ea8-8c6a-c051e78d2245",
   "metadata": {},
   "source": [
    "To store a single quote (') as a string in a variable, you can use either double quotes (\") or triple quotes (''' or \"\"\") to define the string literal. Here's an example:"
   ]
  },
  {
   "cell_type": "code",
   "execution_count": 2,
   "id": "c5e25a9d-a265-41e5-bf75-5366f1324fa0",
   "metadata": {},
   "outputs": [
    {
     "ename": "SyntaxError",
     "evalue": "unterminated string literal (detected at line 7) (1727376245.py, line 7)",
     "output_type": "error",
     "traceback": [
      "\u001b[0;36m  Cell \u001b[0;32mIn[2], line 7\u001b[0;36m\u001b[0m\n\u001b[0;31m    triple_quote = '''This is a single quote: ''''\u001b[0m\n\u001b[0m                                                 ^\u001b[0m\n\u001b[0;31mSyntaxError\u001b[0m\u001b[0;31m:\u001b[0m unterminated string literal (detected at line 7)\n"
     ]
    }
   ],
   "source": [
    "single_quote = 'This is a single quote: \\''\n",
    "print(single_quote)  # Output: This is a single quote: '\n",
    "\n",
    "double_quote = \"This is a single quote: '\"\n",
    "print(double_quote)  # Output: This is a single quote: '\n",
    "\n",
    "triple_quote = '''This is a single quote: ''''\n",
    "print(triple_quote)  # Output: This is a single quote: '\n"
   ]
  },
  {
   "cell_type": "markdown",
   "id": "8baed3bb-5ad5-46bf-b35b-d3ffb1d44eda",
   "metadata": {},
   "source": [
    "In the examples above, the backslash (\\) is used as an escape character before the single quote within the string. It tells Python to treat the following single quote as a literal character rather than as the closing quote for the string.\n",
    "\n",
    "Alternatively, you can use double quotes or triple quotes to define the string literal, which allows you to include the single quote directly without the need for escaping:"
   ]
  },
  {
   "cell_type": "code",
   "execution_count": 3,
   "id": "fe8c3940-bf38-4c6c-ad9a-19a5308217ad",
   "metadata": {},
   "outputs": [
    {
     "name": "stdout",
     "output_type": "stream",
     "text": [
      "This is a single quote: '\n",
      "This is a single quote: '\n"
     ]
    }
   ],
   "source": [
    "single_quote = \"This is a single quote: '\"\n",
    "print(single_quote)  # Output: This is a single quote: '\n",
    "\n",
    "triple_quote = \"\"\"This is a single quote: '\"\"\"\n",
    "print(triple_quote)  # Output: This is a single quote: '"
   ]
  },
  {
   "cell_type": "markdown",
   "id": "dec7b65e-d12d-447a-b9d6-002d9312f3dc",
   "metadata": {},
   "source": [
    "Using double quotes or triple quotes eliminates the need for escaping the single quote, making the code more readable."
   ]
  },
  {
   "cell_type": "code",
   "execution_count": null,
   "id": "5fc9af10-65d0-4984-b82e-b3600c013a16",
   "metadata": {},
   "outputs": [],
   "source": []
  },
  {
   "cell_type": "markdown",
   "id": "9aadc61c-82b2-4f39-9bc5-96a23d78d62b",
   "metadata": {},
   "source": [
    "Q2. Refer the below variable:\n",
    "    x = ‘a'\n",
    "    Here, is x a character type or string type variable? Support your answer with an explanation."
   ]
  },
  {
   "cell_type": "markdown",
   "id": "4348ad1d-9351-48c0-899b-bcaa9b10eba4",
   "metadata": {},
   "source": [
    "In Python, there is no specific \"character\" type. Characters are represented as strings containing a single character. So, in the case of the variable x = 'a', x is a string type variable, not a character type.\n",
    "\n",
    "In Python, a string is a sequence of characters, and it can contain a single character or multiple characters. The distinction between a single character and a string with one character is not explicitly made. Both are represented as strings.\n",
    "\n",
    "The use of single quotes (') or double quotes (\") to define a string is interchangeable in Python. In this case, the single quote 'a' is used to define a string with a single character 'a'. The variable x holds this string.\n",
    "\n",
    "To further illustrate this, you can check the type of the variable using the type() function:"
   ]
  },
  {
   "cell_type": "code",
   "execution_count": 4,
   "id": "3c1c9389-a52a-4e9b-8451-4e6953c41bf6",
   "metadata": {},
   "outputs": [
    {
     "name": "stdout",
     "output_type": "stream",
     "text": [
      "<class 'str'>\n"
     ]
    }
   ],
   "source": [
    "x = 'a'\n",
    "print(type(x))  # Output: <class 'str'>"
   ]
  },
  {
   "cell_type": "markdown",
   "id": "ba5d2de2-b2f9-4738-aadf-503a7df2906d",
   "metadata": {},
   "source": [
    "The type() function confirms that the variable x is of type str, which indicates a string. It doesn't differentiate between a string with one character and a string with multiple characters. Both are treated as strings in Python."
   ]
  },
  {
   "cell_type": "code",
   "execution_count": null,
   "id": "556ef07f-c893-4693-a13e-7e1210d2404c",
   "metadata": {},
   "outputs": [],
   "source": []
  },
  {
   "cell_type": "markdown",
   "id": "52be589c-96a9-471c-8628-db557dc7ae38",
   "metadata": {},
   "source": [
    "Q3. Apply the following functions on this variable: ‘Welcome to Python foun ation course'\n",
    "1. find()\n",
    "2. count()\n",
    "3. len()\n",
    "4. Concatenation\n",
    "Note: You can use your choice of parameters But make sure it is correct."
   ]
  },
  {
   "cell_type": "markdown",
   "id": "9098b883-4495-4118-b363-89865f1d8184",
   "metadata": {},
   "source": [
    "Ans- 1.find(substring): Returns the index of the first occurrence of the given substring within the string. If the substring is not found, it returns -1."
   ]
  },
  {
   "cell_type": "code",
   "execution_count": 5,
   "id": "e4d72156-4f98-4960-8984-0cf427ee81ec",
   "metadata": {},
   "outputs": [
    {
     "name": "stdout",
     "output_type": "stream",
     "text": [
      "11\n",
      "-1\n"
     ]
    }
   ],
   "source": [
    "string = 'Welcome to Python foun ation course'\n",
    "\n",
    "index = string.find('Python')\n",
    "print(index)  # Output: 11\n",
    "\n",
    "index = string.find('Java')\n",
    "print(index)  # Output: -1 (substring not found)"
   ]
  },
  {
   "cell_type": "markdown",
   "id": "5e39582b-7604-464d-9c57-283dcc1e21fe",
   "metadata": {},
   "source": [
    "2.count(substring): Returns the number of occurrences of the given substring within the string."
   ]
  },
  {
   "cell_type": "code",
   "execution_count": 6,
   "id": "a3dd36fa-541e-4d35-93c6-8891438984f1",
   "metadata": {},
   "outputs": [
    {
     "name": "stdout",
     "output_type": "stream",
     "text": [
      "6\n",
      "0\n"
     ]
    }
   ],
   "source": [
    "string = 'Welcome to Python foun ation course'\n",
    "\n",
    "count = string.count('o')\n",
    "print(count)  # Output: 4\n",
    "\n",
    "count = string.count('Java')\n",
    "print(count)  # Output: 0 (substring not found)"
   ]
  },
  {
   "cell_type": "markdown",
   "id": "8470110f-bbd4-439b-8750-7893763216ca",
   "metadata": {},
   "source": [
    "3.len(): Returns the length of the string, i.e., the number of characters in the string."
   ]
  },
  {
   "cell_type": "code",
   "execution_count": 7,
   "id": "036e4ea2-7d66-49dc-ac8c-8a3bd45c7a23",
   "metadata": {},
   "outputs": [
    {
     "name": "stdout",
     "output_type": "stream",
     "text": [
      "35\n"
     ]
    }
   ],
   "source": [
    "string = 'Welcome to Python foun ation course'\n",
    "\n",
    "length = len(string)\n",
    "print(length)  # Output: 32"
   ]
  },
  {
   "cell_type": "markdown",
   "id": "f9d17f87-708a-480b-a05f-60343d680480",
   "metadata": {},
   "source": [
    "4.Concatenation: You can concatenate strings using the + operator."
   ]
  },
  {
   "cell_type": "code",
   "execution_count": 8,
   "id": "e88d6cee-9a0c-43e6-adf8-03362c3b59ad",
   "metadata": {},
   "outputs": [
    {
     "name": "stdout",
     "output_type": "stream",
     "text": [
      "Welcome to Python foundation course\n"
     ]
    }
   ],
   "source": [
    "string1 = 'Welcome to'\n",
    "string2 = ' Python foundation course'\n",
    "\n",
    "concatenated_string = string1 + string2\n",
    "print(concatenated_string)  # Output: Welcome to Python foundation course"
   ]
  },
  {
   "cell_type": "code",
   "execution_count": null,
   "id": "5696aad1-99b5-419d-b3d3-edb58662d084",
   "metadata": {},
   "outputs": [],
   "source": []
  },
  {
   "cell_type": "markdown",
   "id": "5d7dbec3-74c8-469e-832f-fa45d1fb2b45",
   "metadata": {},
   "source": [
    "Q5. Write a code to store a numerical value inside a variable then convert it into string."
   ]
  },
  {
   "cell_type": "markdown",
   "id": "e3029462-1366-4a6c-a59b-5c607eb162d9",
   "metadata": {},
   "source": [
    "Ans- Certainly! Here's an example code that demonstrates storing a numerical value in a variable and then converting it into a string:"
   ]
  },
  {
   "cell_type": "code",
   "execution_count": null,
   "id": "1149e236-59c3-483e-8ac3-27d177f7de96",
   "metadata": {},
   "outputs": [],
   "source": []
  }
 ],
 "metadata": {
  "kernelspec": {
   "display_name": "Python 3 (ipykernel)",
   "language": "python",
   "name": "python3"
  },
  "language_info": {
   "codemirror_mode": {
    "name": "ipython",
    "version": 3
   },
   "file_extension": ".py",
   "mimetype": "text/x-python",
   "name": "python",
   "nbconvert_exporter": "python",
   "pygments_lexer": "ipython3",
   "version": "3.10.8"
  }
 },
 "nbformat": 4,
 "nbformat_minor": 5
}
